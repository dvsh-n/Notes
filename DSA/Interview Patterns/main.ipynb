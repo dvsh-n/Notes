{
 "cells": [
  {
   "cell_type": "markdown",
   "metadata": {},
   "source": [
    "### Sliding Window"
   ]
  },
  {
   "cell_type": "code",
   "execution_count": null,
   "metadata": {},
   "outputs": [
    {
     "name": "stdout",
     "output_type": "stream",
     "text": [
      "Maximum sum of a subarray of size 3 is 27\n"
     ]
    }
   ],
   "source": [
    "# Function to find the maximum sum of a subarray of size k\n",
    "def max_sum_subarray(arr, k):\n",
    "    n = len(arr)\n",
    "    if n < k:\n",
    "        print(\"Invalid\")\n",
    "        return -1\n",
    "\n",
    "    # Compute the sum of the first window of size k\n",
    "    max_sum = sum(arr[:k])\n",
    "    window_sum = max_sum\n",
    "\n",
    "    # Slide the window over the array\n",
    "    for i in range(n - k):\n",
    "        window_sum = window_sum - arr[i] + arr[i + k]\n",
    "        max_sum = max(max_sum, window_sum)\n",
    "\n",
    "    return max_sum\n",
    "\n",
    "# Example usage\n",
    "arr = [1, 2, 3, 4, 5, 6, 7, 8, 9, 10]\n",
    "k = 3\n",
    "print(\"Maximum sum of a subarray of size\", k, \"is\", max_sum_subarray(arr, k))\n",
    "\n",
    "# Time complexity: O(n)\n",
    "# Space complexity: O(1)"
   ]
  },
  {
   "cell_type": "markdown",
   "metadata": {},
   "source": [
    "### Two Pointers"
   ]
  },
  {
   "cell_type": "code",
   "execution_count": null,
   "metadata": {},
   "outputs": [
    {
     "name": "stdout",
     "output_type": "stream",
     "text": [
      "Pair with sum 10 is (1, 9)\n"
     ]
    }
   ],
   "source": [
    "# Function to find a pair with a given sum in a sorted array\n",
    "def find_pair_with_sum(arr, target):\n",
    "    left = 0\n",
    "    right = len(arr) - 1\n",
    "\n",
    "    while left < right:\n",
    "        current_sum = arr[left] + arr[right]\n",
    "        if current_sum == target:\n",
    "            return (arr[left], arr[right])\n",
    "        elif current_sum < target:\n",
    "            left += 1\n",
    "        else:\n",
    "            right -= 1\n",
    "\n",
    "    return None\n",
    "\n",
    "# Example usage\n",
    "target = 10\n",
    "result = find_pair_with_sum(arr, target)\n",
    "if result:\n",
    "    print(f\"Pair with sum {target} is {result}\")\n",
    "else:\n",
    "    print(f\"No pair with sum {target} found\")\n",
    "\n",
    "# Time complexity: O(n)\n",
    "# Space complexity: O(1)"
   ]
  },
  {
   "cell_type": "markdown",
   "metadata": {},
   "source": [
    "### Fast and Slow Pointers"
   ]
  },
  {
   "cell_type": "code",
   "execution_count": 4,
   "metadata": {},
   "outputs": [
    {
     "name": "stdout",
     "output_type": "stream",
     "text": [
      "Cycle detected\n"
     ]
    }
   ],
   "source": [
    "class ListNode:\n",
    "    def __init__(self, value=0, next=None):\n",
    "        self.value = value\n",
    "        self.next = next\n",
    "\n",
    "def has_cycle(head):\n",
    "    slow = head\n",
    "    fast = head\n",
    "\n",
    "    while fast and fast.next:\n",
    "        slow = slow.next\n",
    "        fast = fast.next.next\n",
    "\n",
    "        if slow == fast:\n",
    "            return True\n",
    "\n",
    "    return False\n",
    "\n",
    "# Helper function to create a linked list with a cycle\n",
    "def create_linked_list_with_cycle(values, pos):\n",
    "    head = ListNode(values[0])\n",
    "    current = head\n",
    "    cycle_node = None\n",
    "\n",
    "    for i in range(1, len(values)):\n",
    "        current.next = ListNode(values[i])\n",
    "        current = current.next\n",
    "        if i == pos:\n",
    "            cycle_node = current\n",
    "\n",
    "    if cycle_node:\n",
    "        current.next = cycle_node\n",
    "\n",
    "    return head\n",
    "\n",
    "# Example usage\n",
    "values = [3, 2, 0, -4]\n",
    "pos = 1  # Position at which the cycle starts (0-indexed)\n",
    "head = create_linked_list_with_cycle(values, pos)\n",
    "print(\"Cycle detected\" if has_cycle(head) else \"No cycle detected\")\n",
    "\n",
    "# Time complexity: O(n)\n",
    "# Space complexity: O(1)"
   ]
  },
  {
   "cell_type": "markdown",
   "metadata": {},
   "source": [
    "### Binary Search"
   ]
  },
  {
   "cell_type": "code",
   "execution_count": 5,
   "metadata": {},
   "outputs": [
    {
     "name": "stdout",
     "output_type": "stream",
     "text": [
      "Iterative: Element 10 is at index 9\n",
      "Recursive: Element 10 is at index 9\n"
     ]
    }
   ],
   "source": [
    "# Iterative Binary Search\n",
    "def binary_search_iterative(arr, target):\n",
    "    left, right = 0, len(arr) - 1\n",
    "    while left <= right:\n",
    "        mid = left + (right - left) // 2\n",
    "        if arr[mid] == target:\n",
    "            return mid\n",
    "        elif arr[mid] < target:\n",
    "            left = mid + 1\n",
    "        else:\n",
    "            right = mid - 1\n",
    "    return -1\n",
    "\n",
    "# Recursive Binary Search\n",
    "def binary_search_recursive(arr, target, left, right):\n",
    "    if left <= right:\n",
    "        mid = left + (right - left) // 2\n",
    "        if arr[mid] == target:\n",
    "            return mid\n",
    "        elif arr[mid] < target:\n",
    "            return binary_search_recursive(arr, target, mid + 1, right)\n",
    "        else:\n",
    "            return binary_search_recursive(arr, target, left, mid - 1)\n",
    "    return -1\n",
    "\n",
    "# Example usage\n",
    "if __name__ == \"__main__\":\n",
    "    arr = [1, 2, 3, 4, 5, 6, 7, 8, 9, 10]\n",
    "    target = 10\n",
    "\n",
    "    # Iterative search\n",
    "    result_iterative = binary_search_iterative(arr, target)\n",
    "    print(f\"Iterative: Element {target} is at index {result_iterative}\")\n",
    "\n",
    "    # Recursive search\n",
    "    result_recursive = binary_search_recursive(arr, target, 0, len(arr) - 1)\n",
    "    print(f\"Recursive: Element {target} is at index {result_recursive}\")\n",
    "\n",
    "# Time complexity: O(log n)\n",
    "# Space complexity: O(1) for iterative, O(log n) for recursive"
   ]
  },
  {
   "cell_type": "markdown",
   "metadata": {},
   "source": [
    "### Tree Traversal"
   ]
  },
  {
   "cell_type": "code",
   "execution_count": null,
   "metadata": {},
   "outputs": [
    {
     "name": "stdout",
     "output_type": "stream",
     "text": [
      "Root: 1\n",
      "    L--- 2\n",
      "        L--- 4\n",
      "        R--- 5\n",
      "    R--- 3\n",
      "        L--- 6\n",
      "        R--- 7\n",
      "Inorder traversal: [4, 2, 5, 1, 6, 3, 7]\n",
      "Preorder traversal: [1, 2, 4, 5, 3, 6, 7]\n",
      "Postorder traversal: [4, 5, 2, 6, 7, 3, 1]\n"
     ]
    }
   ],
   "source": [
    "class TreeNode:\n",
    "    def __init__(self, value=0, left=None, right=None):\n",
    "        self.value = value\n",
    "        self.left = left\n",
    "        self.right = right\n",
    "\n",
    "def inorder_traversal(root):\n",
    "    return inorder_traversal(root.left) + [root.value] + inorder_traversal(root.right) if root else []\n",
    "\n",
    "def preorder_traversal(root):\n",
    "    return [root.value] + preorder_traversal(root.left) + preorder_traversal(root.right) if root else []\n",
    "\n",
    "def postorder_traversal(root):\n",
    "    return postorder_traversal(root.left) + postorder_traversal(root.right) + [root.value] if root else []\n",
    "\n",
    "# Helper function to create a binary tree for demonstration\n",
    "def create_binary_tree():\n",
    "    root = TreeNode(1)\n",
    "    root.left = TreeNode(2)\n",
    "    root.right = TreeNode(3)\n",
    "    root.left.left = TreeNode(4)\n",
    "    root.left.right = TreeNode(5)\n",
    "    root.right.left = TreeNode(6)\n",
    "    root.right.right = TreeNode(7)\n",
    "    return root\n",
    "\n",
    "def print_tree(root, level=0, prefix=\"Root: \"):\n",
    "    if root is not None:\n",
    "        print(\" \" * (level * 4) + prefix + str(root.value))\n",
    "        if root.left is not None or root.right is not None:\n",
    "            if root.left:\n",
    "                print_tree(root.left, level + 1, \"L--- \")\n",
    "            else:\n",
    "                print(\" \" * ((level + 1) * 4) + \"L--- None\")\n",
    "            if root.right:\n",
    "                print_tree(root.right, level + 1, \"R--- \")\n",
    "            else:\n",
    "                print(\" \" * ((level + 1) * 4) + \"R--- None\")\n",
    "\n",
    "# Example usage\n",
    "root = create_binary_tree()\n",
    "print_tree(root)\n",
    "print(\"Inorder traversal:\", inorder_traversal(root))\n",
    "print(\"Preorder traversal:\", preorder_traversal(root))\n",
    "print(\"Postorder traversal:\", postorder_traversal(root))\n",
    "\n",
    "# Time complexity: O(n) for all traversals\n",
    "# Space complexity: O(n) for all traversals"
   ]
  }
 ],
 "metadata": {
  "kernelspec": {
   "display_name": "Python 3",
   "language": "python",
   "name": "python3"
  },
  "language_info": {
   "codemirror_mode": {
    "name": "ipython",
    "version": 3
   },
   "file_extension": ".py",
   "mimetype": "text/x-python",
   "name": "python",
   "nbconvert_exporter": "python",
   "pygments_lexer": "ipython3",
   "version": "3.10.12"
  }
 },
 "nbformat": 4,
 "nbformat_minor": 2
}
