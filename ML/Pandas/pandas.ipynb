{
 "cells": [
  {
   "cell_type": "markdown",
   "metadata": {},
   "source": [
    "## Pandas"
   ]
  },
  {
   "cell_type": "code",
   "execution_count": 4,
   "metadata": {},
   "outputs": [],
   "source": [
    "import pandas as pd\n",
    "import numpy as np\n",
    "\n",
    "# Load a big dataset\n",
    "url = 'https://people.sc.fsu.edu/~jburkardt/data/csv/hw_200.csv'\n",
    "df = pd.read_csv(url)\n",
    "\n",
    "# Clean column names\n",
    "df.columns = df.columns.str.strip().str.replace('\"', '')"
   ]
  },
  {
   "cell_type": "code",
   "execution_count": 5,
   "metadata": {},
   "outputs": [
    {
     "name": "stdout",
     "output_type": "stream",
     "text": [
      "   Index  Height(Inches)  Weight(Pounds)\n",
      "0      1           65.78          112.99\n",
      "1      2           71.52          136.49\n",
      "2      3           69.40          153.03\n",
      "3      4           68.22          142.34\n",
      "4      5           67.79          144.30\n"
     ]
    }
   ],
   "source": [
    "# Display the first few rows of the dataset\n",
    "print(df.head())"
   ]
  },
  {
   "cell_type": "code",
   "execution_count": 6,
   "metadata": {},
   "outputs": [
    {
     "name": "stdout",
     "output_type": "stream",
     "text": [
      "0    65.78\n",
      "1    71.52\n",
      "2    69.40\n",
      "3    68.22\n",
      "4    67.79\n",
      "Name: Height(Inches), dtype: float64\n"
     ]
    }
   ],
   "source": [
    "### The Series Data Structure\n",
    "# Create a Series from a column of the DataFrame\n",
    "height_series = df['Height(Inches)']\n",
    "print(height_series.head())"
   ]
  },
  {
   "cell_type": "code",
   "execution_count": 8,
   "metadata": {},
   "outputs": [
    {
     "name": "stdout",
     "output_type": "stream",
     "text": [
      "1     71.52\n",
      "7     70.01\n",
      "15    71.09\n",
      "18    71.23\n",
      "26    70.84\n",
      "33    70.60\n",
      "34    71.80\n",
      "52    70.27\n",
      "55    70.18\n",
      "56    70.41\n",
      "Name: Height(Inches), dtype: float64\n"
     ]
    }
   ],
   "source": [
    "### Querying a Series\n",
    "# Querying a Series to find heights greater than 70 inches, first 10\n",
    "print(height_series[height_series > 70][:10])"
   ]
  },
  {
   "cell_type": "code",
   "execution_count": 9,
   "metadata": {},
   "outputs": [
    {
     "name": "stdout",
     "output_type": "stream",
     "text": [
      "<class 'pandas.core.frame.DataFrame'>\n",
      "RangeIndex: 200 entries, 0 to 199\n",
      "Data columns (total 3 columns):\n",
      " #   Column          Non-Null Count  Dtype  \n",
      "---  ------          --------------  -----  \n",
      " 0   Index           200 non-null    int64  \n",
      " 1   Height(Inches)  200 non-null    float64\n",
      " 2   Weight(Pounds)  200 non-null    float64\n",
      "dtypes: float64(2), int64(1)\n",
      "memory usage: 4.8 KB\n",
      "None\n"
     ]
    }
   ],
   "source": [
    "### DataFrame Data Structure\n",
    "# Display the DataFrame structure\n",
    "print(df.info())"
   ]
  },
  {
   "cell_type": "code",
   "execution_count": 10,
   "metadata": {},
   "outputs": [
    {
     "name": "stdout",
     "output_type": "stream",
     "text": [
      "       Height(Inches)  Weight(Pounds)\n",
      "Index                                \n",
      "1               65.78          112.99\n",
      "2               71.52          136.49\n",
      "3               69.40          153.03\n",
      "4               68.22          142.34\n",
      "5               67.79          144.30\n"
     ]
    }
   ],
   "source": [
    "### DataFrame Indexing and Loading\n",
    "# Set the index of the DataFrame to the 'Index' column\n",
    "df.set_index('Index', inplace=True)\n",
    "print(df.head())"
   ]
  },
  {
   "cell_type": "code",
   "execution_count": 12,
   "metadata": {},
   "outputs": [
    {
     "name": "stdout",
     "output_type": "stream",
     "text": [
      "       Height(Inches)  Weight(Pounds)\n",
      "Index                                \n",
      "2               71.52          136.49\n",
      "8               70.01          136.46\n",
      "16              71.09          140.00\n",
      "19              71.23          137.90\n",
      "27              70.84          142.42\n",
      "34              70.60          136.22\n",
      "35              71.80          140.10\n",
      "53              70.27          125.48\n",
      "56              70.18          147.89\n",
      "57              70.41          155.90\n"
     ]
    }
   ],
   "source": [
    "### Querying a DataFrame\n",
    "# Querying the DataFrame to find rows where height is greater than 70 inches, first 10\n",
    "print(df[df['Height(Inches)'] > 70][:10])"
   ]
  },
  {
   "cell_type": "code",
   "execution_count": 16,
   "metadata": {},
   "outputs": [
    {
     "name": "stdout",
     "output_type": "stream",
     "text": [
      "Height(Inches)     65.78\n",
      "Weight(Pounds)    112.99\n",
      "Name: 1, dtype: float64\n",
      "Height(Inches)     65.78\n",
      "Weight(Pounds)    112.99\n",
      "Name: 1, dtype: float64\n"
     ]
    }
   ],
   "source": [
    "### Indexing DataFrames\n",
    "# Indexing DataFrames using loc and iloc\n",
    "print(df.loc[1])  # Using loc to access the row with index 1 | loc is label-based, which means that you have to specify the name of the rows and columns that you need to filter out.\n",
    "print(df.iloc[0])  # Using iloc to access the first row | iloc is integer position-based, so you have to specify rows and columns by their integer position values (0-based integer position)."
   ]
  },
  {
   "cell_type": "code",
   "execution_count": 14,
   "metadata": {},
   "outputs": [
    {
     "name": "stdout",
     "output_type": "stream",
     "text": [
      "Height(Inches)    0\n",
      "Weight(Pounds)    0\n",
      "dtype: int64\n"
     ]
    }
   ],
   "source": [
    "### Missing Values\n",
    "# Check for missing values in the DataFrame\n",
    "print(df.isnull().sum())"
   ]
  },
  {
   "cell_type": "code",
   "execution_count": 15,
   "metadata": {},
   "outputs": [
    {
     "name": "stdout",
     "output_type": "stream",
     "text": [
      "Height(Inches)    0\n",
      "Weight(Pounds)    0\n",
      "dtype: int64\n"
     ]
    }
   ],
   "source": [
    "# Fill missing values with the mean of the column\n",
    "df.fillna(df.mean(), inplace=True)\n",
    "print(df.isnull().sum())"
   ]
  },
  {
   "cell_type": "code",
   "execution_count": 17,
   "metadata": {},
   "outputs": [
    {
     "name": "stdout",
     "output_type": "stream",
     "text": [
      "  key  value_x  value_y\n",
      "0   B        2        5\n",
      "1   D        4        6\n"
     ]
    }
   ],
   "source": [
    "# Example of merging two DataFrames\n",
    "df1 = pd.DataFrame({'key': ['A', 'B', 'C', 'D'],\n",
    "                    'value': [1, 2, 3, 4]})\n",
    "df2 = pd.DataFrame({'key': ['B', 'D', 'E', 'F'],\n",
    "                    'value': [5, 6, 7, 8]})\n",
    "\n",
    "merged_df = pd.merge(df1, df2, on='key', how='inner')\n",
    "print(merged_df)"
   ]
  },
  {
   "cell_type": "code",
   "execution_count": 18,
   "metadata": {},
   "outputs": [
    {
     "name": "stdout",
     "output_type": "stream",
     "text": [
      "       Height(Inches)  Weight(Pounds)        BMI\n",
      "Index                                           \n",
      "1               65.78          112.99  18.357249\n",
      "2               71.52          136.49  18.758631\n",
      "3               69.40          153.03  22.336389\n",
      "4               68.22          142.34  21.501010\n",
      "5               67.79          144.30  22.074475\n"
     ]
    }
   ],
   "source": [
    "# Using pandas idioms to improve performance\n",
    "# Example: Adding a new column 'BMI' (Body Mass Index) to the DataFrame\n",
    "\n",
    "# Traditional way\n",
    "df['BMI'] = df.apply(lambda row: row['Weight(Pounds)'] / (row['Height(Inches)'] ** 2) * 703, axis=1)\n",
    "\n",
    "# Pandas idiom way\n",
    "df = df.assign(BMI=df['Weight(Pounds)'] / (df['Height(Inches)'] ** 2) * 703)\n",
    "\n",
    "print(df.head())"
   ]
  },
  {
   "cell_type": "code",
   "execution_count": 19,
   "metadata": {},
   "outputs": [
    {
     "name": "stdout",
     "output_type": "stream",
     "text": [
      "          Height(Inches)  Weight(Pounds)        BMI\n",
      "Category                                           \n",
      "Short          67.381667      125.289226  19.390860\n",
      "Tall           70.932500      137.368750  19.196746\n"
     ]
    }
   ],
   "source": [
    "# Create a new column 'Category' for demonstration\n",
    "df['Category'] = np.where(df['Height(Inches)'] > 70, 'Tall', 'Short')\n",
    "\n",
    "# Group by the 'Category' column and calculate the mean of each group\n",
    "grouped_df = df.groupby('Category').mean()\n",
    "\n",
    "print(grouped_df)"
   ]
  },
  {
   "cell_type": "code",
   "execution_count": 20,
   "metadata": {},
   "outputs": [
    {
     "name": "stderr",
     "output_type": "stream",
     "text": [
      "/usr/lib/python3/dist-packages/scipy/__init__.py:146: UserWarning: A NumPy version >=1.17.3 and <1.25.0 is required for this version of SciPy (detected version 1.26.4\n",
      "  warnings.warn(f\"A NumPy version >={np_minversion} and <{np_maxversion}\"\n"
     ]
    },
    {
     "name": "stdout",
     "output_type": "stream",
     "text": [
      "       Height(Inches)  Weight(Pounds)       BMI\n",
      "Index                                          \n",
      "1           -1.121051       -1.192853 -0.660014\n",
      "2            1.844583        0.776803 -0.395770\n",
      "3            0.749262        2.163105  1.959585\n",
      "4            0.139602        1.267121  1.409628\n",
      "5           -0.082562        1.431399  1.787159\n"
     ]
    }
   ],
   "source": [
    "from sklearn.preprocessing import StandardScaler\n",
    "\n",
    "# Initialize the scaler\n",
    "scaler = StandardScaler()\n",
    "\n",
    "# Select the columns to scale\n",
    "columns_to_scale = ['Height(Inches)', 'Weight(Pounds)', 'BMI']\n",
    "\n",
    "# Fit and transform the data\n",
    "scaled_data = scaler.fit_transform(df[columns_to_scale])\n",
    "\n",
    "# Create a new DataFrame with the scaled data\n",
    "scaled_df = pd.DataFrame(scaled_data, columns=columns_to_scale, index=df.index)\n",
    "\n",
    "# Display the first few rows of the scaled DataFrame\n",
    "print(scaled_df.head())"
   ]
  },
  {
   "cell_type": "code",
   "execution_count": 21,
   "metadata": {},
   "outputs": [
    {
     "name": "stdout",
     "output_type": "stream",
     "text": [
      "                BMI\n",
      "Category           \n",
      "Short     19.390860\n",
      "Tall      19.196746\n"
     ]
    }
   ],
   "source": [
    "# Create a pivot table to calculate the mean BMI for each Category\n",
    "pivot_table = df.pivot_table(values='BMI', index='Category', aggfunc='mean')\n",
    "\n",
    "print(pivot_table)"
   ]
  },
  {
   "cell_type": "code",
   "execution_count": 22,
   "metadata": {},
   "outputs": [
    {
     "data": {
      "text/html": [
       "<div>\n",
       "<style scoped>\n",
       "    .dataframe tbody tr th:only-of-type {\n",
       "        vertical-align: middle;\n",
       "    }\n",
       "\n",
       "    .dataframe tbody tr th {\n",
       "        vertical-align: top;\n",
       "    }\n",
       "\n",
       "    .dataframe thead th {\n",
       "        text-align: right;\n",
       "    }\n",
       "</style>\n",
       "<table border=\"1\" class=\"dataframe\">\n",
       "  <thead>\n",
       "    <tr style=\"text-align: right;\">\n",
       "      <th></th>\n",
       "      <th>Height(Inches)</th>\n",
       "      <th>Weight(Pounds)</th>\n",
       "      <th>BMI</th>\n",
       "      <th>Category</th>\n",
       "    </tr>\n",
       "    <tr>\n",
       "      <th>Index</th>\n",
       "      <th></th>\n",
       "      <th></th>\n",
       "      <th></th>\n",
       "      <th></th>\n",
       "    </tr>\n",
       "  </thead>\n",
       "  <tbody>\n",
       "    <tr>\n",
       "      <th>1</th>\n",
       "      <td>65.78</td>\n",
       "      <td>112.99</td>\n",
       "      <td>18.357249</td>\n",
       "      <td>Short</td>\n",
       "    </tr>\n",
       "    <tr>\n",
       "      <th>2</th>\n",
       "      <td>71.52</td>\n",
       "      <td>136.49</td>\n",
       "      <td>18.758631</td>\n",
       "      <td>Tall</td>\n",
       "    </tr>\n",
       "    <tr>\n",
       "      <th>3</th>\n",
       "      <td>69.40</td>\n",
       "      <td>153.03</td>\n",
       "      <td>22.336389</td>\n",
       "      <td>Short</td>\n",
       "    </tr>\n",
       "    <tr>\n",
       "      <th>4</th>\n",
       "      <td>68.22</td>\n",
       "      <td>142.34</td>\n",
       "      <td>21.501010</td>\n",
       "      <td>Short</td>\n",
       "    </tr>\n",
       "    <tr>\n",
       "      <th>5</th>\n",
       "      <td>67.79</td>\n",
       "      <td>144.30</td>\n",
       "      <td>22.074475</td>\n",
       "      <td>Short</td>\n",
       "    </tr>\n",
       "    <tr>\n",
       "      <th>...</th>\n",
       "      <td>...</td>\n",
       "      <td>...</td>\n",
       "      <td>...</td>\n",
       "      <td>...</td>\n",
       "    </tr>\n",
       "    <tr>\n",
       "      <th>196</th>\n",
       "      <td>65.80</td>\n",
       "      <td>120.84</td>\n",
       "      <td>19.620689</td>\n",
       "      <td>Short</td>\n",
       "    </tr>\n",
       "    <tr>\n",
       "      <th>197</th>\n",
       "      <td>66.11</td>\n",
       "      <td>115.78</td>\n",
       "      <td>18.623211</td>\n",
       "      <td>Short</td>\n",
       "    </tr>\n",
       "    <tr>\n",
       "      <th>198</th>\n",
       "      <td>68.24</td>\n",
       "      <td>128.30</td>\n",
       "      <td>19.368855</td>\n",
       "      <td>Short</td>\n",
       "    </tr>\n",
       "    <tr>\n",
       "      <th>199</th>\n",
       "      <td>68.02</td>\n",
       "      <td>127.47</td>\n",
       "      <td>19.368235</td>\n",
       "      <td>Short</td>\n",
       "    </tr>\n",
       "    <tr>\n",
       "      <th>200</th>\n",
       "      <td>71.39</td>\n",
       "      <td>127.88</td>\n",
       "      <td>17.639375</td>\n",
       "      <td>Tall</td>\n",
       "    </tr>\n",
       "  </tbody>\n",
       "</table>\n",
       "<p>200 rows × 4 columns</p>\n",
       "</div>"
      ],
      "text/plain": [
       "       Height(Inches)  Weight(Pounds)        BMI Category\n",
       "Index                                                    \n",
       "1               65.78          112.99  18.357249    Short\n",
       "2               71.52          136.49  18.758631     Tall\n",
       "3               69.40          153.03  22.336389    Short\n",
       "4               68.22          142.34  21.501010    Short\n",
       "5               67.79          144.30  22.074475    Short\n",
       "...               ...             ...        ...      ...\n",
       "196             65.80          120.84  19.620689    Short\n",
       "197             66.11          115.78  18.623211    Short\n",
       "198             68.24          128.30  19.368855    Short\n",
       "199             68.02          127.47  19.368235    Short\n",
       "200             71.39          127.88  17.639375     Tall\n",
       "\n",
       "[200 rows x 4 columns]"
      ]
     },
     "metadata": {},
     "output_type": "display_data"
    }
   ],
   "source": [
    "from IPython.display import display\n",
    "\n",
    "display(df)"
   ]
  }
 ],
 "metadata": {
  "kernelspec": {
   "display_name": "Python 3",
   "language": "python",
   "name": "python3"
  },
  "language_info": {
   "codemirror_mode": {
    "name": "ipython",
    "version": 3
   },
   "file_extension": ".py",
   "mimetype": "text/x-python",
   "name": "python",
   "nbconvert_exporter": "python",
   "pygments_lexer": "ipython3",
   "version": "3.10.12"
  }
 },
 "nbformat": 4,
 "nbformat_minor": 2
}
